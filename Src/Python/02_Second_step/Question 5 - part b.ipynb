{
 "cells": [
  {
   "cell_type": "markdown",
   "id": "dcc83175",
   "metadata": {},
   "source": [
    "## Part 5:\n",
    "b) Inhomogeneous point process"
   ]
  },
  {
   "cell_type": "code",
   "execution_count": null,
   "id": "f86b81a5",
   "metadata": {},
   "outputs": [],
   "source": [
    "import scipy.io as sio\n",
    "import numpy as np\n",
    "import matplotlib.pyplot as plt\n",
    "import scipy.signal.windows as siwo\n",
    "from math import pi\n",
    "import math\n",
    "import random as rnd"
   ]
  },
  {
   "cell_type": "code",
   "execution_count": null,
   "id": "fc65b655",
   "metadata": {},
   "outputs": [],
   "source": [
    "data = sio.loadmat('D:/HW2/150805.mat')"
   ]
  },
  {
   "cell_type": "code",
   "execution_count": null,
   "id": "1a2805eb",
   "metadata": {},
   "outputs": [],
   "source": [
    "locations = data['Event']['mgs'][0, 0]['codes'][0, 0][:, 4]\n",
    "neuron = data['spike'][11, 0]['mgs'][0, 0]\n",
    "[trial_no, samples] = np.shape(neuron)"
   ]
  },
  {
   "cell_type": "code",
   "execution_count": null,
   "id": "8d61bdb4",
   "metadata": {},
   "outputs": [],
   "source": [
    "# calculating number of stimulus 53 trials:\n",
    "counter_51 = 0\n",
    "for i in locations:\n",
    "    if i == 51:\n",
    "        counter_51 += 1\n",
    "# now we build up an array that only consists of neuron response in that spesific trial \n",
    "stm_51 = np.zeros([counter_51, samples])\n",
    "j = 0\n",
    "for i in range(trial_no):\n",
    "    if locations[i] == 51:\n",
    "        stm_51[j, :] = neuron[i, :]\n",
    "        j += 1"
   ]
  },
  {
   "cell_type": "code",
   "execution_count": null,
   "id": "c7224ced",
   "metadata": {},
   "outputs": [],
   "source": [
    "sum_stm51 = sum(stm_51, 0) / counter_51"
   ]
  },
  {
   "cell_type": "code",
   "execution_count": null,
   "id": "41666922",
   "metadata": {},
   "outputs": [],
   "source": [
    "n = 100\n",
    "std = 10\n",
    "w = siwo.gaussian(n, std = std)\n",
    "rate = np.convolve(w, sum_stm51, mode = 'same') * 1000 / (math.sqrt(2 * pi) * std)\n",
    "plt.plot(rate);"
   ]
  },
  {
   "cell_type": "code",
   "execution_count": null,
   "id": "c7ee6c69",
   "metadata": {},
   "outputs": [],
   "source": [
    "trial_no = 200\n",
    "for i in range(trial_no):\n",
    "    n_sample = len(rate)\n",
    "    spike_train = np.array([])\n",
    "    for i in rate:\n",
    "        if rnd.random() < i * 0.001:\n",
    "            spike_train = np.concatenate((spike_train, np.array([1])))\n",
    "        else:\n",
    "            spike_train = np.concatenate((spike_train, np.array([0])))\n"
   ]
  },
  {
   "cell_type": "code",
   "execution_count": null,
   "id": "026f68fd",
   "metadata": {},
   "outputs": [],
   "source": [
    "plt.plot(spike_train);\n",
    "plt.title('inhomogenous spike generation')\n",
    "plt.xlabel('time (ms)')"
   ]
  },
  {
   "cell_type": "code",
   "execution_count": null,
   "id": "57e6b197",
   "metadata": {},
   "outputs": [],
   "source": []
  }
 ],
 "metadata": {
  "kernelspec": {
   "display_name": "Python [conda env:py1] *",
   "language": "python",
   "name": "conda-env-py1-py"
  },
  "language_info": {
   "codemirror_mode": {
    "name": "ipython",
    "version": 3
   },
   "file_extension": ".py",
   "mimetype": "text/x-python",
   "name": "python",
   "nbconvert_exporter": "python",
   "pygments_lexer": "ipython3",
   "version": "3.7.13"
  }
 },
 "nbformat": 4,
 "nbformat_minor": 5
}
