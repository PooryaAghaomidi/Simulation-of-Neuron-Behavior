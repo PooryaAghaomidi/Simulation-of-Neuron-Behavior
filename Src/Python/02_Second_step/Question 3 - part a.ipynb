{
 "cells": [
  {
   "cell_type": "markdown",
   "id": "5c5f1043",
   "metadata": {},
   "source": [
    "## Part3 \n",
    "a)\n",
    "Calculate the time-dependent firing rate of six location by applying 4 \n",
    "different kernels across all trials of each IN and OUT condition. (Try to \n",
    "compare in & Out conditions like question 2)"
   ]
  },
  {
   "cell_type": "code",
   "execution_count": null,
   "id": "857d5664",
   "metadata": {},
   "outputs": [],
   "source": [
    "import scipy.io as sio\n",
    "import numpy as np\n",
    "import matplotlib.pyplot as plt\n",
    "import scipy.signal.windows as siwo\n",
    "from math import pi\n",
    "import math"
   ]
  },
  {
   "cell_type": "code",
   "execution_count": null,
   "id": "a4e21def",
   "metadata": {},
   "outputs": [],
   "source": [
    "data = sio.loadmat('D:/HW2/150805.mat')"
   ]
  },
  {
   "cell_type": "code",
   "execution_count": null,
   "id": "5a1a52f8",
   "metadata": {},
   "outputs": [],
   "source": [
    "locations = data['Event']['mgs'][0, 0]['codes'][0, 0][:, 4]\n",
    "neuron = data['spike'][11, 0]['mgs'][0, 0]\n",
    "[trial_no, samples] = np.shape(neuron)"
   ]
  },
  {
   "cell_type": "code",
   "execution_count": null,
   "id": "7a46fa7c",
   "metadata": {},
   "outputs": [],
   "source": [
    "# calculating number of IN and OUT trials:\n",
    "out_counter = 0\n",
    "in_counter = 0\n",
    "for i in locations:\n",
    "    if i == 51:\n",
    "        in_counter += 1\n",
    "    if i == 54:\n",
    "        out_counter += 1"
   ]
  },
  {
   "cell_type": "code",
   "execution_count": null,
   "id": "227de46a",
   "metadata": {},
   "outputs": [],
   "source": [
    "# now we build up an array for both trials that only consists of neuron response in that spesific trial \n",
    "In = np.zeros([in_counter, samples])\n",
    "Out = np.zeros([out_counter, samples])\n",
    "j = 0\n",
    "k = 0\n",
    "for i in range(trial_no):\n",
    "    if locations[i] == 51:\n",
    "        In[j, :] = neuron[i, :]\n",
    "        j += 1\n",
    "    if locations[i] == 54:\n",
    "        Out[k, :] = neuron[i, :]\n",
    "        k += 1"
   ]
  },
  {
   "cell_type": "code",
   "execution_count": null,
   "id": "5c59a2ea",
   "metadata": {},
   "outputs": [],
   "source": [
    "in_sum = np.sum(In, 0) / in_counter\n",
    "out_sum = np.sum(Out, 0) / out_counter"
   ]
  },
  {
   "cell_type": "markdown",
   "id": "eee31035",
   "metadata": {},
   "source": [
    "### First kernel"
   ]
  },
  {
   "cell_type": "code",
   "execution_count": null,
   "id": "eca433ea",
   "metadata": {},
   "outputs": [],
   "source": [
    "def kernel1(in_put, w):\n",
    "\n",
    "    no = int(samples / w) + 1\n",
    "    rate1 = np.zeros(no * w)\n",
    "\n",
    "    for i in range(no):\n",
    "        if i != no - 1:\n",
    "            rate1[w * i: w * i + w] = sum(in_put[i * w: i * w + w]) * np.ones(w) / w * 1000\n",
    "        else:\n",
    "            rate1[w * i: w * i + w] = sum(in_put[i * w: no - 1]) * np.ones(w) / w * 1000\n",
    "\n",
    "    return rate1\n"
   ]
  },
  {
   "cell_type": "code",
   "execution_count": null,
   "id": "bd869c81",
   "metadata": {},
   "outputs": [],
   "source": [
    "plt.plot(kernel1(in_sum, 50))\n",
    "plt.title(\"IN condition firing rate\")\n",
    "plt.xlabel(\"time(ms)\")\n",
    "plt.ylabel(\"firing rate (spike per second)\");"
   ]
  },
  {
   "cell_type": "code",
   "execution_count": null,
   "id": "13fdc9e5",
   "metadata": {},
   "outputs": [],
   "source": [
    "plt.plot(kernel1(out_sum, 50))\n",
    "plt.title(\"OUT condition firing rate\")\n",
    "plt.xlabel(\"time(ms)\")\n",
    "plt.ylabel(\"firing rate (spike per second)\");"
   ]
  },
  {
   "cell_type": "code",
   "execution_count": null,
   "id": "990f1dec",
   "metadata": {},
   "outputs": [],
   "source": [
    "plt.plot(kernel1(out_sum, 50))\n",
    "plt.plot(kernel1(in_sum, 50), 'r')\n",
    "plt.title(\"IN & OUT condition firing rate\")\n",
    "plt.xlabel(\"time(ms)\")\n",
    "plt.ylabel(\"firing rate (spike per second)\")\n",
    "plt.legend(('OUT', 'IN'));"
   ]
  },
  {
   "cell_type": "markdown",
   "id": "ca3ec40c",
   "metadata": {},
   "source": [
    "## Second kernel"
   ]
  },
  {
   "cell_type": "code",
   "execution_count": null,
   "id": "62b864a4",
   "metadata": {},
   "outputs": [],
   "source": [
    "def kernel2(in_put, w):\n",
    "    rate2 = np.zeros(samples)\n",
    "    for i in range(samples):\n",
    "        if i <= samples - w - 1:\n",
    "            rate2[i] = sum(in_put[i:i + w]) / w * 1000\n",
    "        else:\n",
    "            rate2[i] = sum(in_put[i:samples - 1]) / w * 1000\n",
    "    return rate2"
   ]
  },
  {
   "cell_type": "code",
   "execution_count": null,
   "id": "dc777002",
   "metadata": {},
   "outputs": [],
   "source": [
    "plt.plot(kernel2(in_sum, 50))\n",
    "plt.title(\"IN condition firing rate\")\n",
    "plt.xlabel(\"time(ms)\")\n",
    "plt.ylabel(\"firing rate (spike per second)\");"
   ]
  },
  {
   "cell_type": "code",
   "execution_count": null,
   "id": "8ab5e2f6",
   "metadata": {},
   "outputs": [],
   "source": [
    "plt.plot(kernel2(out_sum, 50))\n",
    "plt.title(\"IN condition firing rate\")\n",
    "plt.xlabel(\"time(ms)\")\n",
    "plt.ylabel(\"firing rate (spike per second)\");"
   ]
  },
  {
   "cell_type": "code",
   "execution_count": null,
   "id": "ab35e4d9",
   "metadata": {},
   "outputs": [],
   "source": [
    "plt.plot(kernel2(out_sum, 50))\n",
    "plt.plot(kernel2(in_sum, 50), 'r')\n",
    "plt.title(\"IN & OUT condition firing rate\")\n",
    "plt.xlabel(\"time(ms)\")\n",
    "plt.ylabel(\"firing rate (spike per second)\")\n",
    "plt.legend(('OUT', 'IN'));"
   ]
  },
  {
   "cell_type": "markdown",
   "id": "a05d22fe",
   "metadata": {},
   "source": [
    "## Third kernel"
   ]
  },
  {
   "cell_type": "code",
   "execution_count": null,
   "id": "3b685979",
   "metadata": {},
   "outputs": [],
   "source": [
    "n = 100\n",
    "std = 20\n",
    "w = siwo.gaussian(n, std = std)\n",
    "rate3_in = np.convolve(w, in_sum, mode = 'same') * 1000 / (math.sqrt(2 * pi) * std)\n",
    "rate3_out = np.convolve(w, out_sum, mode = 'same') * 1000 / (math.sqrt(2 * pi) * std)\n"
   ]
  },
  {
   "cell_type": "code",
   "execution_count": null,
   "id": "fe9019ef",
   "metadata": {},
   "outputs": [],
   "source": [
    "# gaussian window:\n",
    "plt.plot(w);"
   ]
  },
  {
   "cell_type": "code",
   "execution_count": null,
   "id": "f0ee5741",
   "metadata": {},
   "outputs": [],
   "source": [
    "plt.plot(rate3_in)\n",
    "plt.title(\"IN condition firing rate\")\n",
    "plt.xlabel(\"time(ms)\")\n",
    "plt.ylabel(\"firing rate (spike per second)\");"
   ]
  },
  {
   "cell_type": "code",
   "execution_count": null,
   "id": "a722b546",
   "metadata": {},
   "outputs": [],
   "source": [
    "plt.plot(rate3_out)\n",
    "plt.title(\"OUT condition firing rate\")\n",
    "plt.xlabel(\"time(ms)\")\n",
    "plt.ylabel(\"firing rate (spike per second)\");"
   ]
  },
  {
   "cell_type": "code",
   "execution_count": null,
   "id": "9027c4e1",
   "metadata": {},
   "outputs": [],
   "source": [
    "plt.plot(rate3_in, 'r')\n",
    "plt.plot(rate3_out, 'b')\n",
    "plt.title(\"IN & OUT condition firing rate\")\n",
    "plt.xlabel(\"time(ms)\")\n",
    "plt.ylabel(\"firing rate (spike per second)\")\n",
    "plt.legend((\"IN\", \"OUT\"));"
   ]
  },
  {
   "cell_type": "code",
   "execution_count": null,
   "id": "a024b29a",
   "metadata": {},
   "outputs": [],
   "source": [
    " n = 100\n",
    "w1 = siwo.gaussian(n, std = 20)\n",
    "w2 = np.concatenate((np.zeros(int(n / 2)), w1[int(n / 2):n]))\n",
    "rate4_in = np.convolve(w2, in_sum, mode = 'same') * 1000 / (math.sqrt(pi / 2) * std)\n",
    "rate4_out = np.convolve(w2, out_sum, mode = 'same') * 1000 / (math.sqrt(pi / 2) * std)"
   ]
  },
  {
   "cell_type": "code",
   "execution_count": null,
   "id": "717adbbd",
   "metadata": {},
   "outputs": [],
   "source": [
    "#half gausian window:\n",
    "plt.plot(w2);"
   ]
  },
  {
   "cell_type": "code",
   "execution_count": null,
   "id": "e0f48a26",
   "metadata": {},
   "outputs": [],
   "source": [
    "plt.plot(rate4_in)\n",
    "plt.title(\"IN condition firing rate\")\n",
    "plt.xlabel(\"time(ms)\")\n",
    "plt.ylabel(\"firing rate (spike per second)\");"
   ]
  },
  {
   "cell_type": "code",
   "execution_count": null,
   "id": "59552040",
   "metadata": {},
   "outputs": [],
   "source": [
    "plt.plot(rate4_out)\n",
    "plt.title(\"IN condition firing rate\")\n",
    "plt.xlabel(\"time(ms)\")\n",
    "plt.ylabel(\"firing rate (spike per second)\");"
   ]
  },
  {
   "cell_type": "code",
   "execution_count": null,
   "id": "8cbafac7",
   "metadata": {},
   "outputs": [],
   "source": [
    "plt.plot(rate4_in, 'r')\n",
    "plt.plot(rate4_out, 'b')\n",
    "plt.title(\"IN & OUT condition firing rate\")\n",
    "plt.xlabel(\"time(ms)\")\n",
    "plt.ylabel(\"firing rate (spike per second)\")\n",
    "plt.legend((\"IN\", \"OUT\"));"
   ]
  },
  {
   "cell_type": "code",
   "execution_count": null,
   "id": "426a3ae6",
   "metadata": {},
   "outputs": [],
   "source": []
  }
 ],
 "metadata": {
  "kernelspec": {
   "display_name": "Python [conda env:py1] *",
   "language": "python",
   "name": "conda-env-py1-py"
  },
  "language_info": {
   "codemirror_mode": {
    "name": "ipython",
    "version": 3
   },
   "file_extension": ".py",
   "mimetype": "text/x-python",
   "name": "python",
   "nbconvert_exporter": "python",
   "pygments_lexer": "ipython3",
   "version": "3.7.13"
  }
 },
 "nbformat": 4,
 "nbformat_minor": 5
}
