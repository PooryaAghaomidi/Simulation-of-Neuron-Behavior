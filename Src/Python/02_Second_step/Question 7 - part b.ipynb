{
 "cells": [
  {
   "cell_type": "code",
   "execution_count": null,
   "id": "408f6e73",
   "metadata": {},
   "outputs": [],
   "source": [
    "import scipy.io as sio\n",
    "import numpy as np\n",
    "import matplotlib.pyplot as plt"
   ]
  },
  {
   "cell_type": "code",
   "execution_count": null,
   "id": "c9a6aaea",
   "metadata": {},
   "outputs": [],
   "source": [
    "data = sio.loadmat('D:/HW2/150805.mat')"
   ]
  },
  {
   "cell_type": "code",
   "execution_count": null,
   "id": "41b1d68e",
   "metadata": {},
   "outputs": [],
   "source": [
    "locations = data['Event']['vgabor'][0, 0]['codes'][0, 0][:, 4]\n",
    "neuron = data['spike'][2, 0]['vgabor'][0, 0]\n",
    "[trial_no, samples] = np.shape(neuron)"
   ]
  },
  {
   "cell_type": "code",
   "execution_count": null,
   "id": "dc987e7a",
   "metadata": {},
   "outputs": [],
   "source": [
    "answer = np.zeros(16)\n",
    "for i in range(16):\n",
    "    r = np.where(locations == 51 + i)\n",
    "    data1 = np.zeros((len(r[0]), samples))\n",
    "    for j in range(len(r[0])):\n",
    "        data1[j, :] = neuron[r[0][j], :]\n",
    "    answer[i] = sum(np.sum(data1, 0) / len(r[0])) / samples * 1000"
   ]
  },
  {
   "cell_type": "code",
   "execution_count": null,
   "id": "fb4f9c20",
   "metadata": {},
   "outputs": [],
   "source": [
    "x = np.arange(51, 67, 1)\n",
    "plt.scatter(x, answer);\n",
    "z = np.polyfit(x, answer, 3)\n",
    "p = np.poly1d(z)\n",
    "y = p(x)\n",
    "plt.scatter(x, answer);\n",
    "plt.plot(x, y)\n",
    "plt.xlabel(\"stimulus oriantation\")\n",
    "plt.ylabel('firing rate (sample per second)');"
   ]
  },
  {
   "cell_type": "code",
   "execution_count": null,
   "id": "767639e9",
   "metadata": {},
   "outputs": [],
   "source": []
  },
  {
   "cell_type": "code",
   "execution_count": null,
   "id": "7811dd83",
   "metadata": {},
   "outputs": [],
   "source": []
  }
 ],
 "metadata": {
  "kernelspec": {
   "display_name": "Python [conda env:py1] *",
   "language": "python",
   "name": "conda-env-py1-py"
  },
  "language_info": {
   "codemirror_mode": {
    "name": "ipython",
    "version": 3
   },
   "file_extension": ".py",
   "mimetype": "text/x-python",
   "name": "python",
   "nbconvert_exporter": "python",
   "pygments_lexer": "ipython3",
   "version": "3.7.13"
  }
 },
 "nbformat": 4,
 "nbformat_minor": 5
}
