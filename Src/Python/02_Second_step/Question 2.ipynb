{
 "cells": [
  {
   "cell_type": "code",
   "execution_count": null,
   "id": "657ca4d9",
   "metadata": {},
   "outputs": [],
   "source": [
    "import scipy.io as sio\n",
    "import numpy as np\n",
    "import matplotlib.pyplot as plt"
   ]
  },
  {
   "cell_type": "code",
   "execution_count": null,
   "id": "68b340ff",
   "metadata": {},
   "outputs": [],
   "source": [
    "data = sio.loadmat('D:/HW2/150805.mat')"
   ]
  },
  {
   "cell_type": "code",
   "execution_count": null,
   "id": "2dea1eff",
   "metadata": {},
   "outputs": [],
   "source": [
    "locations = data['Event']['mgs'][0, 0]['codes'][0, 0][:, 4]\n",
    "neuron = data['spike'][11, 0]['mgs'][0, 0]\n",
    "[trial_no, samples] = np.shape(neuron)\n",
    "#[14,1],[2,0],[3,0],[5,0],[9,0]..,[10,0],[11,0]*,[14,0]"
   ]
  },
  {
   "cell_type": "markdown",
   "id": "d67481e6",
   "metadata": {},
   "source": [
    "## Part1: \n",
    "Plot the PSTH and Raster plot of all trials of each IN and OUT condition."
   ]
  },
  {
   "cell_type": "code",
   "execution_count": null,
   "id": "305412a3",
   "metadata": {},
   "outputs": [],
   "source": [
    "# calculating number of IN and OUT trials:\n",
    "out_counter = 0\n",
    "in_counter = 0\n",
    "for i in locations:\n",
    "    if i == 51:\n",
    "        in_counter += 1\n",
    "    if i == 54:\n",
    "        out_counter += 1"
   ]
  },
  {
   "cell_type": "code",
   "execution_count": null,
   "id": "8fb6b86d",
   "metadata": {},
   "outputs": [],
   "source": [
    "# now we build up an array for both trials that only consists of neuron response in that spesific trial \n",
    "In = np.zeros([in_counter, samples])\n",
    "Out = np.zeros([out_counter, samples])\n",
    "j = 0\n",
    "k = 0\n",
    "for i in range(trial_no):\n",
    "    if locations[i] == 51:\n",
    "        In[j, :] = neuron[i, :]\n",
    "        j += 1\n",
    "    if locations[i] == 54:\n",
    "        Out[k, :] = neuron[i, :]\n",
    "        k += 1"
   ]
  },
  {
   "cell_type": "code",
   "execution_count": null,
   "id": "67d97d2d",
   "metadata": {},
   "outputs": [],
   "source": [
    "# computing which sample showing an spike happening (spike position) for each IN(51) and OUT(54) trial\n",
    "in_pos = []\n",
    "for i in range(in_counter):\n",
    "    pos = []\n",
    "    for j in range(samples):\n",
    "        if In[i, j] == 1:\n",
    "            pos.append(j)\n",
    "\n",
    "    pos2 = np.array(pos)\n",
    "    in_pos.append(pos2)\n"
   ]
  },
  {
   "cell_type": "code",
   "execution_count": null,
   "id": "cadaf84d",
   "metadata": {},
   "outputs": [],
   "source": [
    "plt.eventplot(in_pos);\n",
    "plt.xlabel('time(ms)');\n",
    "plt.ylabel('IN trials');"
   ]
  },
  {
   "cell_type": "code",
   "execution_count": null,
   "id": "78e3e9f7",
   "metadata": {},
   "outputs": [],
   "source": [
    "out_pos = []\n",
    "for i in range(out_counter):\n",
    "    pos = []\n",
    "    for j in range(samples):\n",
    "        if Out[i, j] == 1:\n",
    "            pos.append(j)\n",
    "\n",
    "    pos2 = np.array(pos)\n",
    "    out_pos.append(pos2)\n"
   ]
  },
  {
   "cell_type": "code",
   "execution_count": null,
   "id": "084f240e",
   "metadata": {},
   "outputs": [],
   "source": [
    "plt.eventplot(out_pos);\n",
    "plt.xlabel('time(ms)');\n",
    "plt.ylabel('OUT trials');"
   ]
  },
  {
   "cell_type": "code",
   "execution_count": null,
   "id": "d46c86fe",
   "metadata": {},
   "outputs": [],
   "source": [
    "in_sum = np.sum(In, 0) / in_counter\n",
    "out_sum = np.sum(Out, 0) / out_counter"
   ]
  },
  {
   "cell_type": "code",
   "execution_count": null,
   "id": "894ce540",
   "metadata": {},
   "outputs": [],
   "source": [
    "plt.figure()\n",
    "plt.plot(in_sum, 'r');\n",
    "plt.title(\"IN condition\")\n",
    "plt.xlabel(\"time(ms)\")\n",
    "plt.ylabel(\"spike number mean\")\n",
    "plt.figure()\n",
    "plt.plot(out_sum, 'b');\n",
    "plt.title(\"OUT condition\")\n",
    "plt.xlabel(\"time(ms)\")\n",
    "plt.ylabel(\"spike number mean\");"
   ]
  },
  {
   "cell_type": "code",
   "execution_count": null,
   "id": "678fcd8f",
   "metadata": {},
   "outputs": [],
   "source": [
    "plt.plot(in_sum, 'r');\n",
    "plt.plot(out_sum, 'b');\n",
    "plt.title(\"IN & OUT condition\")\n",
    "plt.xlabel(\"time(ms)\")\n",
    "plt.ylabel(\"spike number mean\")\n",
    "plt.plot(out_sum, 'b');"
   ]
  },
  {
   "cell_type": "code",
   "execution_count": null,
   "id": "97fdf237",
   "metadata": {},
   "outputs": [],
   "source": []
  },
  {
   "cell_type": "code",
   "execution_count": null,
   "id": "75c14664",
   "metadata": {},
   "outputs": [],
   "source": []
  }
 ],
 "metadata": {
  "kernelspec": {
   "display_name": "Python [conda env:py1] *",
   "language": "python",
   "name": "conda-env-py1-py"
  },
  "language_info": {
   "codemirror_mode": {
    "name": "ipython",
    "version": 3
   },
   "file_extension": ".py",
   "mimetype": "text/x-python",
   "name": "python",
   "nbconvert_exporter": "python",
   "pygments_lexer": "ipython3",
   "version": "3.7.13"
  }
 },
 "nbformat": 4,
 "nbformat_minor": 5
}
