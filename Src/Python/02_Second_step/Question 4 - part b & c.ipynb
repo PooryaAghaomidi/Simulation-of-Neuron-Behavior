{
 "cells": [
  {
   "cell_type": "markdown",
   "id": "d50e9ca6",
   "metadata": {},
   "source": [
    "## part 4\n"
   ]
  },
  {
   "cell_type": "markdown",
   "id": "5f194ddd",
   "metadata": {},
   "source": [
    "b)Measure Fanofactor & CV (coefficient of variation) of one selected \n",
    "neuron during fixation (0-1000 ms), visual period (1000-2000 ms) and \n",
    "over all firing rate (during the whole trial). What is you statement about \n",
    "the type of point process of this neuron?"
   ]
  },
  {
   "cell_type": "code",
   "execution_count": null,
   "id": "ab92f8e0",
   "metadata": {},
   "outputs": [],
   "source": [
    "import scipy.io as sio\n",
    "import numpy as np\n",
    "import matplotlib.pyplot as plt\n",
    "import statistics as sts\n",
    "import math\n",
    "import seaborn as sns"
   ]
  },
  {
   "cell_type": "code",
   "execution_count": null,
   "id": "7c67cfb4",
   "metadata": {},
   "outputs": [],
   "source": [
    "data = sio.loadmat('D:/HW2/150805.mat')"
   ]
  },
  {
   "cell_type": "code",
   "execution_count": null,
   "id": "ce8e8130",
   "metadata": {},
   "outputs": [],
   "source": [
    "neuron = data['spike'][5, 1]['mgs'][0, 0]\n",
    "[trial_no, samples] = np.shape(neuron)"
   ]
  },
  {
   "cell_type": "code",
   "execution_count": null,
   "id": "1c8fb0d5",
   "metadata": {},
   "outputs": [],
   "source": [
    "def time_interval(data1):\n",
    "    pos = []\n",
    "    for j in range(len(data1)):\n",
    "        if data1[j] == 1:\n",
    "            pos.append(j)\n",
    "    pos2 = np.array(pos)\n",
    "    isi = []\n",
    "    for k in range(len(pos2) - 1):\n",
    "        isi.append((pos2[k + 1] - pos2[k]))\n",
    "\n",
    "    return np.array(isi)"
   ]
  },
  {
   "cell_type": "code",
   "execution_count": null,
   "id": "5f39adc4",
   "metadata": {},
   "outputs": [],
   "source": [
    "def event_no(data2):\n",
    "    ta = 1\n",
    "    no = np.zeros(int(len(data2) / ta) + 1)\n",
    "    for i in range(int(len(data2) / ta) + 1):\n",
    "        no[i] = sum(data2[i * ta:(i + 1) * ta])\n",
    "    return no"
   ]
  },
  {
   "cell_type": "code",
   "execution_count": null,
   "id": "dd1d4f95",
   "metadata": {},
   "outputs": [],
   "source": [
    "def isitpoisson(data3):\n",
    "    event_number = event_no(data3)\n",
    "    ff = np.var(event_number) / np.mean(event_number)\n",
    "\n",
    "    isi = time_interval(data3)\n",
    "    average_isi = np.mean(isi)\n",
    "    CV = np.std(isi) / np.mean(isi)\n",
    "    return [ff, CV, average_isi]"
   ]
  },
  {
   "cell_type": "code",
   "execution_count": null,
   "id": "3d93e640",
   "metadata": {},
   "outputs": [],
   "source": [
    "fixation_isi = np.zeros(trial_no);\n",
    "visual_isi = np.zeros(trial_no);\n",
    "total_isi = np.zeros(trial_no)\n",
    "fixation_FF = np.zeros(trial_no);\n",
    "visual_FF = np.zeros(trial_no);\n",
    "total_FF = np.zeros(trial_no)\n",
    "fixation_CV = np.zeros(trial_no);\n",
    "visual_CV = np.zeros(trial_no);\n",
    "total_CV = np.zeros(trial_no)\n",
    "for i in range(trial_no):\n",
    "    trial = neuron[i]\n",
    "    [fixation_FF[i], fixation_CV[i], fixation_isi[i]] = isitpoisson(trial[0:1000])\n",
    "    [visual_FF[i], visual_CV[i], visual_isi[i]] = isitpoisson(trial[1000:2000])\n",
    "    [total_FF[i], total_CV[i], total_isi[i]] = isitpoisson(trial)\n",
    "\n"
   ]
  },
  {
   "cell_type": "code",
   "execution_count": null,
   "id": "fc19104c",
   "metadata": {},
   "outputs": [],
   "source": [
    "# during fixation:\n",
    "plt.scatter(fixation_isi, fixation_FF);\n",
    "plt.xlabel('average isi (ms) ')\n",
    "plt.ylabel('fanofactor')\n",
    "plt.title('during fixation')\n",
    "\n",
    "plt.figure()\n",
    "plt.scatter(fixation_isi, fixation_CV);\n",
    "plt.xlabel('average isi (ms) ')\n",
    "plt.ylabel('CV')\n",
    "plt.title('during fixation');"
   ]
  },
  {
   "cell_type": "code",
   "execution_count": null,
   "id": "c146fa49",
   "metadata": {},
   "outputs": [],
   "source": [
    "# during visual period:\n",
    "plt.scatter(visual_isi, visual_FF);\n",
    "plt.xlabel('average isi (ms) ')\n",
    "plt.ylabel('fanofactor')\n",
    "plt.title('during visual period')\n",
    "\n",
    "plt.figure()\n",
    "plt.scatter(visual_isi, visual_CV);\n",
    "plt.xlabel('average isi (ms) ')\n",
    "plt.ylabel('CV')\n",
    "plt.title('during visual period');"
   ]
  },
  {
   "cell_type": "code",
   "execution_count": null,
   "id": "e7149a25",
   "metadata": {},
   "outputs": [],
   "source": [
    "# during whole trial:\n",
    "plt.scatter(total_isi, total_FF);\n",
    "plt.xlabel('average isi (ms) ')\n",
    "plt.ylabel('fanofactor')\n",
    "plt.title('during whole trial')\n",
    "\n",
    "plt.figure()\n",
    "plt.scatter(total_isi, total_CV);\n",
    "plt.xlabel('average isi (ms) ')\n",
    "plt.ylabel('CV')\n",
    "plt.title('during whole trial');"
   ]
  },
  {
   "cell_type": "markdown",
   "id": "0e6f1af7",
   "metadata": {},
   "source": [
    "c) Measure Fanofactor & CV (coefficient of variation) across all neurons \n",
    "during fixation (0-1000 ms), visual period (1000-2000 ms) and over all \n",
    "firing rate (during the whole trial). What is you statement about the type \n",
    "of point process of neurons in area MT of monkey brain?"
   ]
  },
  {
   "cell_type": "code",
   "execution_count": null,
   "id": "436b6364",
   "metadata": {},
   "outputs": [],
   "source": [
    "neuron = data['spike'][5, 1]['mgs'][0, 0]\n",
    "[trial_no, samples] = np.shape(neuron)\n",
    "single_neu_no = np.array([2, 3, 5, 7, 8, 9, 10, 11, 12, 13, 14, 15])\n",
    "l = len(single_neu_no)\n",
    "fixation_isi = np.zeros(trial_no * l);\n",
    "visual_isi = np.zeros(trial_no * l);\n",
    "total_isi = np.zeros(trial_no * l)\n",
    "fixation_FF = np.zeros(trial_no * l);\n",
    "visual_FF = np.zeros(trial_no * l);\n",
    "total_FF = np.zeros(trial_no * l)\n",
    "fixation_CV = np.zeros(trial_no * l);\n",
    "visual_CV = np.zeros(trial_no * l);\n",
    "total_CV = np.zeros(trial_no * l)\n",
    "\n",
    "for j in range(len(single_neu_no)):\n",
    "    neuron = data['spike'][single_neu_no[j], 1]['mgs'][0, 0]\n",
    "    for i in range(trial_no):\n",
    "        trial = neuron[i]\n",
    "        [fixation_FF[trial_no * j + i], fixation_CV[trial_no * j + i],\n",
    "         fixation_isi[trial_no * j + i]] = isitpoisson(trial[0:1000])\n",
    "        [visual_FF[trial_no * j + i], visual_CV[trial_no * j + i], visual_isi[trial_no * j + i]] = isitpoisson(trial[\n",
    "                                                                                                               1000:2000])\n",
    "        [total_FF[trial_no * j + i], total_CV[trial_no * j + i], total_isi[trial_no * j + i]] = isitpoisson(trial)\n",
    "\n"
   ]
  },
  {
   "cell_type": "code",
   "execution_count": null,
   "id": "c039ee25",
   "metadata": {},
   "outputs": [],
   "source": [
    "# during fixation:\n",
    "plt.scatter(fixation_isi, fixation_FF);\n",
    "plt.xlabel('average isi (ms) ')\n",
    "plt.ylabel('fanofactor')\n",
    "plt.title('during fixation')\n",
    "\n",
    "plt.figure()\n",
    "plt.scatter(fixation_isi, fixation_CV);\n",
    "plt.xlabel('average isi (ms) ')\n",
    "plt.ylabel('CV')\n",
    "plt.title('during fixation');"
   ]
  },
  {
   "cell_type": "code",
   "execution_count": null,
   "id": "b909f9a3",
   "metadata": {},
   "outputs": [],
   "source": [
    "# during visual period:\n",
    "plt.scatter(visual_isi, visual_FF);\n",
    "plt.xlabel('average isi (ms) ')\n",
    "plt.ylabel('fanofactor')\n",
    "plt.title('during visual period')\n",
    "\n",
    "plt.figure()\n",
    "plt.scatter(visual_isi, visual_CV);\n",
    "plt.xlabel('average isi (ms) ')\n",
    "plt.ylabel('CV')\n",
    "plt.title('during visual period');"
   ]
  },
  {
   "cell_type": "code",
   "execution_count": null,
   "id": "14e38e89",
   "metadata": {},
   "outputs": [],
   "source": [
    "# during whole trial:\n",
    "plt.scatter(total_isi, total_FF);\n",
    "plt.xlabel('average isi (ms) ')\n",
    "plt.ylabel('fanofactor')\n",
    "plt.title('during whole trial')\n",
    "\n",
    "plt.figure()\n",
    "plt.scatter(total_isi, total_CV);\n",
    "plt.xlabel('average isi (ms) ')\n",
    "plt.ylabel('CV')\n",
    "plt.title('during whole trial');"
   ]
  },
  {
   "cell_type": "code",
   "execution_count": null,
   "id": "6f3c1024",
   "metadata": {},
   "outputs": [],
   "source": []
  },
  {
   "cell_type": "code",
   "execution_count": null,
   "id": "358f5103",
   "metadata": {},
   "outputs": [],
   "source": []
  }
 ],
 "metadata": {
  "kernelspec": {
   "display_name": "Python [conda env:py1] *",
   "language": "python",
   "name": "conda-env-py1-py"
  },
  "language_info": {
   "codemirror_mode": {
    "name": "ipython",
    "version": 3
   },
   "file_extension": ".py",
   "mimetype": "text/x-python",
   "name": "python",
   "nbconvert_exporter": "python",
   "pygments_lexer": "ipython3",
   "version": "3.7.13"
  }
 },
 "nbformat": 4,
 "nbformat_minor": 5
}
