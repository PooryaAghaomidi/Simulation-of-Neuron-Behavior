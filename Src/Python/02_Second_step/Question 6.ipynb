{
 "cells": [
  {
   "cell_type": "markdown",
   "id": "8ed2045e",
   "metadata": {},
   "source": [
    "## Part 6:\n",
    "Create & plot receptive filed using average firing rate based on vodr \n",
    "structure (RF mapping task).\n"
   ]
  },
  {
   "cell_type": "code",
   "execution_count": null,
   "id": "b0542f71",
   "metadata": {},
   "outputs": [],
   "source": [
    "import scipy.io as sio\n",
    "import numpy as np\n",
    "import matplotlib.pyplot as plt\n",
    "import scipy.signal.windows as siwo\n",
    "from math import pi\n",
    "import math"
   ]
  },
  {
   "cell_type": "code",
   "execution_count": null,
   "id": "d6c64b12",
   "metadata": {},
   "outputs": [],
   "source": [
    "data = sio.loadmat('D:/HW2/150805.mat')"
   ]
  },
  {
   "cell_type": "code",
   "execution_count": null,
   "id": "498296e9",
   "metadata": {},
   "outputs": [],
   "source": [
    "locations = data['Event']['vodr'][0, 0]['codes'][0, 0][:, 9:17]\n",
    "neuron = data['spike'][3, 0]['vodr'][0, 0]\n",
    "[trial_no, samples] = np.shape(neuron)"
   ]
  },
  {
   "cell_type": "code",
   "execution_count": null,
   "id": "3c7fb177",
   "metadata": {},
   "outputs": [],
   "source": [
    "probs = np.zeros((trial_no, 200, 8))\n",
    "probs[:, :, 0] = neuron[:, 150:350]\n",
    "probs[:, :, 1] = neuron[:, 350:550]\n",
    "probs[:, :, 2] = neuron[:, 564:764]\n",
    "probs[:, :, 3] = neuron[:, 787:987]\n",
    "probs[:, :, 4] = neuron[:, 989:1189]\n",
    "probs[:, :, 5] = neuron[:, 1190:1390]\n",
    "probs[:, :, 6] = neuron[:, 1399:1599]\n",
    "probs[:, :, 7] = neuron[:, 1600:1800]"
   ]
  },
  {
   "cell_type": "code",
   "execution_count": null,
   "id": "79cdfc37",
   "metadata": {},
   "outputs": [],
   "source": [
    "answer = np.zeros((7, 7))\n",
    "for i in range(3, 10):\n",
    "    for j in range(1, 8):\n",
    "        [r, c] = np.where(locations == i * 10 + j)\n",
    "        data1 = np.zeros((len(r), 200))\n",
    "        for k in range(len(r)):\n",
    "            data1[k, :] = probs[r[k], :, c[k]]\n",
    "        answer[j - 1, i - 4] = sum(np.sum(data1, 0) / len(r)) / 200\n",
    "\n",
    "\n"
   ]
  },
  {
   "cell_type": "code",
   "execution_count": null,
   "id": "a8f4f4e2",
   "metadata": {},
   "outputs": [],
   "source": [
    "from scipy import interpolate\n",
    "\n",
    "mymin, mymax = 0, 6\n",
    "X = np.linspace(mymin, mymax, 7)\n",
    "Y = np.linspace(mymin, mymax, 7)\n",
    "\n",
    "x, y = np.meshgrid(X, Y)\n",
    "\n",
    "f = interpolate.interp2d(x, y, answer, kind = 'cubic')\n",
    "\n",
    "# use linspace so your new range also goes from 0 to 6, with 70 intervals\n",
    "Xnew = np.linspace(mymin, mymax, 70)\n",
    "Ynew = np.linspace(mymin, mymax, 70)\n",
    "\n",
    "answer70 = f(Xnew, Ynew)\n"
   ]
  },
  {
   "cell_type": "code",
   "execution_count": null,
   "id": "8c1fa62a",
   "metadata": {},
   "outputs": [],
   "source": [
    "#plt.imshow(answer,interpolation = 'hamming',origin='lower')\n",
    "plt.imshow(answer70, origin = 'lower');\n"
   ]
  },
  {
   "cell_type": "code",
   "execution_count": null,
   "id": "63a9558e",
   "metadata": {},
   "outputs": [],
   "source": []
  },
  {
   "cell_type": "code",
   "execution_count": null,
   "id": "19ddb97f",
   "metadata": {},
   "outputs": [],
   "source": []
  }
 ],
 "metadata": {
  "kernelspec": {
   "display_name": "Python [conda env:py1] *",
   "language": "python",
   "name": "conda-env-py1-py"
  },
  "language_info": {
   "codemirror_mode": {
    "name": "ipython",
    "version": 3
   },
   "file_extension": ".py",
   "mimetype": "text/x-python",
   "name": "python",
   "nbconvert_exporter": "python",
   "pygments_lexer": "ipython3",
   "version": "3.7.13"
  }
 },
 "nbformat": 4,
 "nbformat_minor": 5
}
