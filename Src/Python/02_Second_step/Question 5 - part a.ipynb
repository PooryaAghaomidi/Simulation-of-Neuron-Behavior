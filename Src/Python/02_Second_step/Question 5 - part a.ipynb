{
 "cells": [
  {
   "cell_type": "markdown",
   "id": "50185685",
   "metadata": {},
   "source": [
    "## Part 5:\n",
    "5- Generate spikes according the firing rates of section a using:\n",
    "\n",
    "a) homogenous point proces"
   ]
  },
  {
   "cell_type": "code",
   "execution_count": null,
   "id": "3068538c",
   "metadata": {},
   "outputs": [],
   "source": [
    "import scipy.io as sio\n",
    "import numpy as np\n",
    "import matplotlib.pyplot as plt\n",
    "import random as rnd\n",
    "import math\n",
    "import seaborn as sns"
   ]
  },
  {
   "cell_type": "code",
   "execution_count": null,
   "id": "c52f652b",
   "metadata": {},
   "outputs": [],
   "source": [
    "data = sio.loadmat('D:/HW2/150805.mat')"
   ]
  },
  {
   "cell_type": "code",
   "execution_count": null,
   "id": "dd94f147",
   "metadata": {},
   "outputs": [],
   "source": [
    "locations = data['Event']['mgs'][0, 0]['codes'][0, 0][:, 4]\n",
    "neuron = data['spike'][11, 0]['mgs'][0, 0]\n",
    "[trial_no, samples] = np.shape(neuron)"
   ]
  },
  {
   "cell_type": "code",
   "execution_count": null,
   "id": "4d173425",
   "metadata": {},
   "outputs": [],
   "source": [
    "# calculating number of stimulus 53 trials:\n",
    "counter_51 = 0\n",
    "for i in locations:\n",
    "    if i == 51:\n",
    "        counter_51 += 1\n",
    "# now we build up an array that only consists of neuron response in that spesific trial \n",
    "stm_51 = np.zeros([counter_51, samples])\n",
    "j = 0\n",
    "for i in range(trial_no):\n",
    "    if locations[i] == 51:\n",
    "        stm_51[j, :] = neuron[i, :]\n",
    "        j += 1"
   ]
  },
  {
   "cell_type": "code",
   "execution_count": null,
   "id": "02387188",
   "metadata": {},
   "outputs": [],
   "source": [
    "# lambda calculating:\n",
    "sum_stm51 = sum(stm_51, 0) / counter_51\n",
    "firing_rate = sum(sum_stm51) / samples"
   ]
  },
  {
   "cell_type": "code",
   "execution_count": null,
   "id": "615f9ed0",
   "metadata": {},
   "outputs": [],
   "source": [
    "no = 70  # number of required spikes\n",
    "isi = np.zeros(no)\n",
    "for i in range(no):\n",
    "    #Uniform disterbution:\n",
    "    u = rnd.random()\n",
    "    # exponential distribution:\n",
    "    isi[i] = int(-1 / firing_rate * math.log(u))"
   ]
  },
  {
   "cell_type": "code",
   "execution_count": null,
   "id": "3693c9db",
   "metadata": {},
   "outputs": [],
   "source": [
    "# spike train \n",
    "train = np.zeros(int(sum(isi)))\n",
    "location = 0\n",
    "for i in isi:\n",
    "    train[int(location)] = 1\n",
    "    location = location + i"
   ]
  },
  {
   "cell_type": "code",
   "execution_count": null,
   "id": "f5997cb3",
   "metadata": {},
   "outputs": [],
   "source": [
    "plt.plot(train)"
   ]
  },
  {
   "cell_type": "code",
   "execution_count": null,
   "id": "6a7bf34f",
   "metadata": {},
   "outputs": [],
   "source": []
  }
 ],
 "metadata": {
  "kernelspec": {
   "display_name": "Python [conda env:py1] *",
   "language": "python",
   "name": "conda-env-py1-py"
  },
  "language_info": {
   "codemirror_mode": {
    "name": "ipython",
    "version": 3
   },
   "file_extension": ".py",
   "mimetype": "text/x-python",
   "name": "python",
   "nbconvert_exporter": "python",
   "pygments_lexer": "ipython3",
   "version": "3.7.13"
  }
 },
 "nbformat": 4,
 "nbformat_minor": 5
}
