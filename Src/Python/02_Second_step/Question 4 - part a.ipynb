{
 "cells": [
  {
   "cell_type": "markdown",
   "id": "1c4e4a72",
   "metadata": {},
   "source": [
    "## Part 4\n",
    "a) Find & plot the inter spike interval distribution of one selected neuron \n",
    "during fixation (0-1000 ms), visual period (1000-2000 ms) and over all \n",
    "firing rate (during the whole trial). What is you statement about the type \n",
    "of point process of this neuron?"
   ]
  },
  {
   "cell_type": "code",
   "execution_count": null,
   "id": "cd97f332",
   "metadata": {},
   "outputs": [],
   "source": [
    "import scipy.io as sio\n",
    "import numpy as np\n",
    "import matplotlib.pyplot as plt\n",
    "import statistics as sts\n",
    "import math\n",
    "import seaborn as sns"
   ]
  },
  {
   "cell_type": "code",
   "execution_count": null,
   "id": "0b7a453d",
   "metadata": {},
   "outputs": [],
   "source": [
    "data = sio.loadmat('D:/HW2/150805.mat')"
   ]
  },
  {
   "cell_type": "code",
   "execution_count": null,
   "id": "ae0b2724",
   "metadata": {},
   "outputs": [],
   "source": [
    "neuron = data['spike'][11, 1]['mgs'][0, 0]\n",
    "[trial_no, samples] = np.shape(neuron)"
   ]
  },
  {
   "cell_type": "code",
   "execution_count": null,
   "id": "2aee402b",
   "metadata": {},
   "outputs": [],
   "source": [
    "def time_interval(data):\n",
    "    pos = []\n",
    "    for j in range(len(data)):\n",
    "        if data[j] == 1:\n",
    "            pos.append(j)\n",
    "    pos2 = np.array(pos)\n",
    "    isi = []\n",
    "    for k in range(len(pos2) - 1):\n",
    "        isi.append((pos2[k + 1] - pos2[k]))\n",
    "\n",
    "    return np.array(isi)"
   ]
  },
  {
   "cell_type": "code",
   "execution_count": null,
   "id": "b41bb3af",
   "metadata": {},
   "outputs": [],
   "source": [
    "isi_total = np.array([]);\n",
    "isi_fixation = np.array([]);\n",
    "isi_visual = np.array([]);\n",
    "for i in range(trial_no):\n",
    "    t = time_interval(neuron[i])\n",
    "    isi_total = np.concatenate((isi_total, t))\n",
    "for i in range(trial_no):\n",
    "    t = time_interval(neuron[i][0:1000])\n",
    "    isi_fixation = np.concatenate((isi_fixation, t))\n",
    "for i in range(trial_no):\n",
    "    t = time_interval(neuron[i][1000:2000])\n",
    "    isi_visual = np.concatenate((isi_visual, t))"
   ]
  },
  {
   "cell_type": "code",
   "execution_count": null,
   "id": "e8da45e5",
   "metadata": {},
   "outputs": [],
   "source": [
    "#fixation\n",
    "#x = np.arange(100)\n",
    "#y = np.ones(100)\n",
    "#la = 0.12\n",
    "#for i in range(100):\n",
    "#    y[i] = la*math.exp(-la*x[i])\n",
    "sns.displot(isi_fixation, binwidth = 1, stat = \"probability\");\n",
    "plt.title(\"isi distribution during fixation\")\n",
    "plt.xlabel('isi')\n",
    "#plt.plot(y,'r')\n",
    "#visual\n",
    "sns.displot(isi_visual, binwidth = 1, stat = \"probability\");\n",
    "plt.title(\"isi distribution during visual period\")\n",
    "plt.xlabel('isi')\n",
    "#whole trial\n",
    "sns.displot(isi_total, binwidth = 1, stat = \"probability\");\n",
    "plt.title(\"isi distribution during the whole trial\")\n",
    "plt.xlabel('isi');"
   ]
  },
  {
   "cell_type": "code",
   "execution_count": null,
   "id": "c88f4df9",
   "metadata": {},
   "outputs": [],
   "source": []
  }
 ],
 "metadata": {
  "kernelspec": {
   "display_name": "Python [conda env:py1] *",
   "language": "python",
   "name": "conda-env-py1-py"
  },
  "language_info": {
   "codemirror_mode": {
    "name": "ipython",
    "version": 3
   },
   "file_extension": ".py",
   "mimetype": "text/x-python",
   "name": "python",
   "nbconvert_exporter": "python",
   "pygments_lexer": "ipython3",
   "version": "3.7.13"
  }
 },
 "nbformat": 4,
 "nbformat_minor": 5
}
