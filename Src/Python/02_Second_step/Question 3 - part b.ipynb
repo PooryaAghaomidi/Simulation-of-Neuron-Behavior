{
 "cells": [
  {
   "cell_type": "markdown",
   "id": "29a65c99",
   "metadata": {},
   "source": [
    "## part 3\n",
    "b) Measure the firing rate of one selected neuron for conditions IN (the \n",
    "condition with the highest response usually 51 in this date set) & OUT \n",
    "(condition 54 in this date set) during fixation (0-1000 ms), visual period \n",
    "(1000-2000 ms), memory period (2500-3500 ms) and over all firing rate \n",
    "(during the whole trial)."
   ]
  },
  {
   "cell_type": "code",
   "execution_count": null,
   "id": "641cf475",
   "metadata": {},
   "outputs": [],
   "source": [
    "import scipy.io as sio\n",
    "import numpy as np\n",
    "import matplotlib.pyplot as plt\n",
    "import pandas as pd"
   ]
  },
  {
   "cell_type": "code",
   "execution_count": null,
   "id": "e6c1a8e3",
   "metadata": {},
   "outputs": [],
   "source": [
    "data = sio.loadmat('D:/HW2/150805.mat')"
   ]
  },
  {
   "cell_type": "code",
   "execution_count": null,
   "id": "abacbf89",
   "metadata": {},
   "outputs": [],
   "source": [
    "locations = data['Event']['mgs'][0, 0]['codes'][0, 0][:, 4]\n",
    "neuron = data['spike'][7, 0]['mgs'][0, 0]\n",
    "[trial_no, samples] = np.shape(neuron)"
   ]
  },
  {
   "cell_type": "code",
   "execution_count": null,
   "id": "9785d4a1",
   "metadata": {},
   "outputs": [],
   "source": [
    "# calculating number of IN and OUT trials:\n",
    "out_counter = 0\n",
    "in_counter = 0\n",
    "for i in locations:\n",
    "    if i == 51:\n",
    "        in_counter += 1\n",
    "    if i == 54:\n",
    "        out_counter += 1"
   ]
  },
  {
   "cell_type": "code",
   "execution_count": null,
   "id": "8a5a8add",
   "metadata": {},
   "outputs": [],
   "source": [
    "# now we build up an array for both trials that only consists of neuron response in that spesific trial \n",
    "In = np.zeros([in_counter, samples])\n",
    "Out = np.zeros([out_counter, samples])\n",
    "j = 0\n",
    "k = 0\n",
    "for i in range(trial_no):\n",
    "    if locations[i] == 51:\n",
    "        In[j, :] = neuron[i, :]\n",
    "        j += 1\n",
    "    if locations[i] == 54:\n",
    "        Out[k, :] = neuron[i, :]\n",
    "        k += 1"
   ]
  },
  {
   "cell_type": "code",
   "execution_count": null,
   "id": "56057f28",
   "metadata": {},
   "outputs": [],
   "source": [
    "in_sum = sum(In, 0) / in_counter\n",
    "out_sum = sum(Out, 0) / out_counter"
   ]
  },
  {
   "cell_type": "code",
   "execution_count": null,
   "id": "900d6c50",
   "metadata": {},
   "outputs": [],
   "source": [
    "# during fixation:\n",
    "fix_in = sum(in_sum[0:1000]) / 1000 * 1000\n",
    "fix_out = sum(out_sum[0:1000]) / 1000 * 1000\n"
   ]
  },
  {
   "cell_type": "code",
   "execution_count": null,
   "id": "7ad3b074",
   "metadata": {},
   "outputs": [],
   "source": [
    "#during visual period\n",
    "vis_in = sum(in_sum[1000:2000]) / 1000 * 1000\n",
    "vis_out = sum(out_sum[1000:2000]) / 1000 * 1000\n"
   ]
  },
  {
   "cell_type": "code",
   "execution_count": null,
   "id": "8a3ff33c",
   "metadata": {},
   "outputs": [],
   "source": [
    "#during memory period\n",
    "memory_in = sum(in_sum[2500:3500]) / 1000 * 1000\n",
    "memory_out = sum(out_sum[2500:3500]) / 1000 * 1000\n"
   ]
  },
  {
   "cell_type": "code",
   "execution_count": null,
   "id": "854f15c2",
   "metadata": {},
   "outputs": [],
   "source": [
    "# during whole trial \n",
    "firing_rate_in = sum(in_sum) / samples * 1000\n",
    "firing_rate_out = sum(out_sum) / samples * 1000\n"
   ]
  },
  {
   "cell_type": "code",
   "execution_count": null,
   "id": "ccc87531",
   "metadata": {},
   "outputs": [],
   "source": [
    "d = {'IN': [fix_in, vis_in, memory_in, firing_rate_in], 'OUT': [fix_out, vis_out, memory_out, firing_rate_out]}\n",
    "df = pd.DataFrame(d, index = ['during fixation', 'during visual period', 'during memory perid', 'over all'])\n",
    "df"
   ]
  },
  {
   "cell_type": "code",
   "execution_count": null,
   "id": "d568bf81",
   "metadata": {},
   "outputs": [],
   "source": []
  }
 ],
 "metadata": {
  "kernelspec": {
   "display_name": "Python [conda env:py1] *",
   "language": "python",
   "name": "conda-env-py1-py"
  },
  "language_info": {
   "codemirror_mode": {
    "name": "ipython",
    "version": 3
   },
   "file_extension": ".py",
   "mimetype": "text/x-python",
   "name": "python",
   "nbconvert_exporter": "python",
   "pygments_lexer": "ipython3",
   "version": "3.7.13"
  }
 },
 "nbformat": 4,
 "nbformat_minor": 5
}
