{
 "cells": [
  {
   "cell_type": "markdown",
   "id": "e2375b65",
   "metadata": {},
   "source": [
    "## Part 7:\n",
    "7- Create & plot tuning curve using average firing rate:\n",
    "\n",
    "a) based on different locations using mgs data"
   ]
  },
  {
   "cell_type": "code",
   "execution_count": null,
   "id": "653531e9",
   "metadata": {},
   "outputs": [],
   "source": [
    "import scipy.io as sio\n",
    "import numpy as np\n",
    "import matplotlib.pyplot as plt\n",
    "from scipy.optimize import curve_fit"
   ]
  },
  {
   "cell_type": "code",
   "execution_count": null,
   "id": "68cc617b",
   "metadata": {},
   "outputs": [],
   "source": [
    "data = sio.loadmat('D:/HW2/150805.mat')"
   ]
  },
  {
   "cell_type": "code",
   "execution_count": null,
   "id": "043cad3c",
   "metadata": {},
   "outputs": [],
   "source": [
    "locations = data['Event']['mgs'][0, 0]['codes'][0, 0][:, 4]\n",
    "neuron = data['spike'][5, 0]['mgs'][0, 0]\n",
    "[trial_no, samples] = np.shape(neuron)"
   ]
  },
  {
   "cell_type": "code",
   "execution_count": null,
   "id": "dbed56c5",
   "metadata": {},
   "outputs": [],
   "source": [
    "answer = np.zeros(6)\n",
    "for i in range(6):\n",
    "    r = np.where(locations == 51 + i)\n",
    "    data1 = np.zeros((len(r[0]), samples))\n",
    "    for j in range(len(r[0])):\n",
    "        data1[j, :] = neuron[r[0][j], :]\n",
    "    answer[i] = sum(np.sum(data1, 0) / len(r[0])) / samples * 1000"
   ]
  },
  {
   "cell_type": "code",
   "execution_count": null,
   "id": "def431bf",
   "metadata": {},
   "outputs": [],
   "source": [
    "x = np.arange(51, 57, 1)\n",
    "z = np.polyfit(x, answer, 2)\n",
    "p = np.poly1d(z)\n",
    "y = p(x)\n",
    "plt.scatter(x, answer);\n",
    "plt.plot(x, y)\n",
    "plt.xlabel(\"stimulus location\")\n",
    "plt.ylabel('firing rate (sample per second)');"
   ]
  },
  {
   "cell_type": "code",
   "execution_count": null,
   "id": "e1fa1611",
   "metadata": {},
   "outputs": [],
   "source": []
  }
 ],
 "metadata": {
  "kernelspec": {
   "display_name": "Python [conda env:py1] *",
   "language": "python",
   "name": "conda-env-py1-py"
  },
  "language_info": {
   "codemirror_mode": {
    "name": "ipython",
    "version": 3
   },
   "file_extension": ".py",
   "mimetype": "text/x-python",
   "name": "python",
   "nbconvert_exporter": "python",
   "pygments_lexer": "ipython3",
   "version": "3.7.13"
  }
 },
 "nbformat": 4,
 "nbformat_minor": 5
}
