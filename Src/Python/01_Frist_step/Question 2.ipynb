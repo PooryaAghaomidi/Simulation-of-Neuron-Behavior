{
 "cells": [
  {
   "cell_type": "markdown",
   "id": "c59d5185",
   "metadata": {},
   "source": [
    "### part 2:\n",
    "Write a function n_prime(t, V) that calculates the derivative of n at the point t given that \n",
    "the membrane potential is V. "
   ]
  },
  {
   "cell_type": "code",
   "execution_count": 3,
   "id": "90e169f9",
   "metadata": {},
   "outputs": [],
   "source": [
    "import numpy as np\n",
    "import math\n",
    "import matplotlib.pyplot as plt"
   ]
  },
  {
   "cell_type": "code",
   "execution_count": 1,
   "id": "d3672049",
   "metadata": {},
   "outputs": [],
   "source": [
    "def n_prime(t, v):\n",
    "\n",
    "    # neuron resting potential:\n",
    "    Erest = -60\n",
    "    v = v - Erest\n",
    "    # in v = 10 we would have a dividing by zero two following lines are written to avoide this\n",
    "    if v == 10:\n",
    "        v = + 0.01\n",
    "\n",
    "    dt = 0.001\n",
    "    # n initial value:\n",
    "    initial_n = 0\n",
    "\n",
    "    # transsition rate from close to open state:\n",
    "    alpha = 0.01 * (10 - v) / (math.exp((10 - v) / 10) - 1)\n",
    "\n",
    "    # transsition rate from open to close state:\n",
    "    beta = 0.125 * math.exp(-v / 80)\n",
    "    ta = 1 / (alpha + beta)\n",
    "    n_end = alpha / (alpha + beta)\n",
    "    n = n_end - (n_end - initial_n) * math.exp(-t / ta)\n",
    "\n",
    "    #calculating dn by given formula:\n",
    "    dn = alpha * (1 - n) - beta * n\n",
    "\n",
    "    return dn"
   ]
  }
 ],
 "metadata": {
  "kernelspec": {
   "display_name": "Python [conda env:py1] *",
   "language": "python",
   "name": "conda-env-py1-py"
  },
  "language_info": {
   "codemirror_mode": {
    "name": "ipython",
    "version": 3
   },
   "file_extension": ".py",
   "mimetype": "text/x-python",
   "name": "python",
   "nbconvert_exporter": "python",
   "pygments_lexer": "ipython3",
   "version": "3.7.13"
  }
 },
 "nbformat": 4,
 "nbformat_minor": 5
}
