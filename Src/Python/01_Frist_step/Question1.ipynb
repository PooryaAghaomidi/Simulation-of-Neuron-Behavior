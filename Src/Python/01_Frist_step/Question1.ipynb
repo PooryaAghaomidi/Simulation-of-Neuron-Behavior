{
 "cells": [
  {
   "cell_type": "markdown",
   "id": "6d9b1f50",
   "metadata": {},
   "source": [
    "# HW1 : Simulate the action potentials generation of a neuron\n",
    "## part 1:\n",
    "Write a function named ode_euler which will implement a method to solve the sample differential equation. The first argument of this function shoul be a function handle to a differential equation (see the follwoing example for a sample example of f=X^2+1)"
   ]
  },
  {
   "cell_type": "code",
   "execution_count": null,
   "id": "7d60e62e",
   "metadata": {},
   "outputs": [],
   "source": [
    "import numpy as np\n",
    "import math\n",
    "import matplotlib.pyplot as plt"
   ]
  },
  {
   "cell_type": "code",
   "execution_count": null,
   "id": "1529caa1",
   "metadata": {},
   "outputs": [],
   "source": [
    "def ode_euler(init, x, dif):\n",
    "    \"\"\"This function calculate a function - for example f - output from its derivative in the given input, Inputs of this\n",
    "    function are consist of an initial value for f , the range of inputs which we want the f's output in them\n",
    "    and f's derivative value in each input\"\"\"\n",
    "\n",
    "    # spesifying an array for output \n",
    "    output = np.zeros(len(x))\n",
    "\n",
    "    # determining function output in first input\n",
    "    output[0] = init\n",
    "\n",
    "    # calculating output in every given input from its derivative using ode-euler equation\n",
    "    # 'dif' is a function which gives the derivative value in any given input\n",
    "    for i in range(0, len(x) - 1):\n",
    "        output[i + 1] = output[i] + (x[i + 1] - x[i]) * dif(x[i])\n",
    "    return output"
   ]
  },
  {
   "cell_type": "markdown",
   "id": "759515ab",
   "metadata": {},
   "source": [
    "### example :\n",
    "we want to find f's value for x = 0:0.01:10 by knowing f's differential in this x's.\n",
    "\n",
    "f = X^2+1\n",
    "\n",
    "df/dx = 2X\n",
    "\n",
    "f(x = 0) = 1"
   ]
  },
  {
   "cell_type": "code",
   "execution_count": null,
   "id": "d86e1506",
   "metadata": {},
   "outputs": [],
   "source": [
    "def dif_f(x):\n",
    "    #defining the derivative function   \n",
    "    df = 2 * x\n",
    "\n",
    "    return df"
   ]
  },
  {
   "cell_type": "code",
   "execution_count": null,
   "id": "e1faf332",
   "metadata": {},
   "outputs": [],
   "source": [
    "# we want function value from x=0 to x = 10\n",
    "x_input = 10\n",
    "# initial value : f(0) = 1\n",
    "initial = [0, 1]\n",
    "# step sizes:\n",
    "dx = 0.01\n",
    "x = np.arange(initial[0], x_input + dx, dx)\n",
    "# calculating f directly using its formula:\n",
    "f2 = x ** 2 + 1\n",
    "# calculating f from its derivative using euler function:\n",
    "f = ode_euler(initial[1], x, dif_f)\n",
    "\n",
    "# comparing calculated x for both ways:\n",
    "plt.figure()\n",
    "plt.plot(x, f, 'bo')\n",
    "plt.plot(x, f2, 'r')"
   ]
  }
 ],
 "metadata": {
  "kernelspec": {
   "display_name": "Python [conda env:py1] *",
   "language": "python",
   "name": "conda-env-py1-py"
  },
  "language_info": {
   "codemirror_mode": {
    "name": "ipython",
    "version": 3
   },
   "file_extension": ".py",
   "mimetype": "text/x-python",
   "name": "python",
   "nbconvert_exporter": "python",
   "pygments_lexer": "ipython3",
   "version": "3.7.13"
  }
 },
 "nbformat": 4,
 "nbformat_minor": 5
}
