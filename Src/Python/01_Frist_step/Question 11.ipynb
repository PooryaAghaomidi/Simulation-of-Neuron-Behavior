{
 "cells": [
  {
   "cell_type": "markdown",
   "id": "de0a6e0f",
   "metadata": {},
   "source": [
    "## part 11:\n",
    " So far we have learned about regular spiking and in this question we want to simulate \n",
    "bursting type. model for this kind of spiking is a two-dimensional system of ordinary \n",
    "differential equations which is shown below. The parameter a controls the rate of \n",
    "recovery of u, and b controls the sensitivity of recovery to subthreshold fluctuations of \n",
    "the membrane potential. Plot voltage changes in time for injected current I that shows \n",
    "bursting behavior. (assume a=0.02 and b=0.2)"
   ]
  },
  {
   "cell_type": "code",
   "execution_count": null,
   "id": "941ab235",
   "metadata": {},
   "outputs": [],
   "source": [
    "import numpy as np\n",
    "import math\n",
    "import matplotlib.pyplot as plt"
   ]
  },
  {
   "cell_type": "code",
   "execution_count": null,
   "id": "d0dabf11",
   "metadata": {},
   "outputs": [],
   "source": [
    "def bursting_pot(t, I):\n",
    "    #determinig time step\n",
    "    dt = t[1] - t[0]\n",
    "    #determinig sample numbers\n",
    "    l = len(t)\n",
    "    a = 0.02\n",
    "    b = 0.2\n",
    "    vm = np.zeros(l)\n",
    "    initial_u = -65 * b\n",
    "    initial_v = -65\n",
    "    u = initial_u\n",
    "    v = initial_v\n",
    "    d = 8\n",
    "    for i in range(0, l - 1):\n",
    "        vm[i] = v\n",
    "        if v >= 30:\n",
    "            v = initial_v\n",
    "            u = u + 8\n",
    "\n",
    "        dif_v = 0.04 * v ** 2 + 5 * v + 140 - u + I\n",
    "        dif_u = 0.02 * (0.2 * v - u)\n",
    "\n",
    "        v = v + dt * dif_v\n",
    "        u = u + dt * dif_u\n",
    "    return vm"
   ]
  },
  {
   "cell_type": "code",
   "execution_count": null,
   "id": "85ca2e96",
   "metadata": {},
   "outputs": [],
   "source": [
    "t = np.arange(0, 200, 0.2)\n",
    "vol1 = bursting_pot(t, 10)\n",
    "plt.figure()\n",
    "plt.plot(t, vol1)\n",
    "plt.title('burdting potential for 10 mA injected current ')\n",
    "vol2 = bursting_pot(t, 30)\n",
    "plt.figure()\n",
    "plt.title('burdting potential for 30 mA injected current ')\n",
    "plt.plot(t, vol2)"
   ]
  },
  {
   "cell_type": "code",
   "execution_count": null,
   "id": "345952fc",
   "metadata": {},
   "outputs": [],
   "source": []
  }
 ],
 "metadata": {
  "kernelspec": {
   "display_name": "Python [conda env:py1] *",
   "language": "python",
   "name": "conda-env-py1-py"
  },
  "language_info": {
   "codemirror_mode": {
    "name": "ipython",
    "version": 3
   },
   "file_extension": ".py",
   "mimetype": "text/x-python",
   "name": "python",
   "nbconvert_exporter": "python",
   "pygments_lexer": "ipython3",
   "version": "3.7.13"
  }
 },
 "nbformat": 4,
 "nbformat_minor": 5
}
