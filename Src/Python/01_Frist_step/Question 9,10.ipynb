{
 "cells": [
  {
   "cell_type": "markdown",
   "id": "253e7b23",
   "metadata": {},
   "source": [
    "## part 9:\n",
    "a) Write a function hodgkin_huxley(t, I_inj) that takes a time series t and a constant \n",
    "representing injected current and returns the value of V at every point in t. "
   ]
  },
  {
   "cell_type": "code",
   "execution_count": null,
   "id": "d977472a",
   "metadata": {},
   "outputs": [],
   "source": [
    "import numpy as np\n",
    "import math\n",
    "import matplotlib.pyplot as plt"
   ]
  },
  {
   "cell_type": "code",
   "execution_count": null,
   "id": "52f0a4e7",
   "metadata": {},
   "outputs": [],
   "source": [
    "def n_prime(n, v):\n",
    "    vrest = -60\n",
    "    v = v - vrest\n",
    "\n",
    "    # in v = 10 we would have a dividing by zero two following lines are written to avoide this\n",
    "    if v == 10:\n",
    "        v = v + 0.001\n",
    "\n",
    "    # transsition rate from close to open state:\n",
    "    alpha = 0.01 * (10 - v) / (math.exp((10 - v) / 10) - 1)\n",
    "\n",
    "    # transsition rate from open to close state:\n",
    "    beta = 0.125 * math.exp(-v / 80)\n",
    "\n",
    "    # calculating dn from the given formula\n",
    "    dn = alpha * (1 - n) - beta * n\n",
    "    return dn"
   ]
  },
  {
   "cell_type": "code",
   "execution_count": null,
   "id": "162e57f4",
   "metadata": {},
   "outputs": [],
   "source": [
    "def m_prime(m, v):\n",
    "    # Na resting potential\n",
    "    Ena = 53.4\n",
    "    # cell resting potential\n",
    "    vrest = -60\n",
    "    v = v - vrest\n",
    "\n",
    "    # in v = 25 we would have a dividing by zero, two following lines are written to avoide this\n",
    "    if v == 25:\n",
    "        v = v + 0.001\n",
    "\n",
    "    initial_m = 1\n",
    "    # transsition rate from close to open state:\n",
    "    alpha = 0.1 * (25 - v) / (math.exp(0.1 * (25 - v)) - 1)\n",
    "\n",
    "    # transsition rate from open to close state:\n",
    "    beta = 4 * math.exp(-v / 18)\n",
    "\n",
    "    dm = alpha * (1 - m) - beta * m\n",
    "    return dm"
   ]
  },
  {
   "cell_type": "code",
   "execution_count": null,
   "id": "ef05910f",
   "metadata": {},
   "outputs": [],
   "source": [
    "def h_prime(h, v):\n",
    "    # Na resting potential\n",
    "    Ena = 53.4\n",
    "    # cell resting potential\n",
    "    vrest = -60\n",
    "    v = v - vrest\n",
    "\n",
    "    # in v = 30 we would have a dividing by zero ,two following lines are written to avoide this\n",
    "    if v == 30:\n",
    "        v = v + 0.001\n",
    "\n",
    "    initial_h = 0\n",
    "    # transsition rate from inactive to active state:\n",
    "    alpha = 0.07 * math.exp(-v / 20)\n",
    "\n",
    "    # transsition rate from active to inactive state:\n",
    "    beta = 1 / (math.exp((30 - v) / 10) + 1)\n",
    "    dh = (1 - h) * alpha - h * beta\n",
    "\n",
    "    return dh"
   ]
  },
  {
   "cell_type": "code",
   "execution_count": null,
   "id": "559b4283",
   "metadata": {},
   "outputs": [],
   "source": [
    "def hodgkin_huxley(t, I_inj):\n",
    "\n",
    "    l = len(t)\n",
    "    #step size\n",
    "    dt = t[1] - t[0]\n",
    "    #specifying arrays that will be filled by v  values \n",
    "    v = np.zeros(l)\n",
    "    #defining all the necessary parameters\n",
    "    n = 0\n",
    "    m = 0\n",
    "    h = 1\n",
    "    v[0] = -60\n",
    "    Cm = 1\n",
    "    gk = 36\n",
    "    Ek = -72.1\n",
    "    gna = 120\n",
    "    Ena = 52.4\n",
    "    gl = 0.3\n",
    "    El = -49.2\n",
    "\n",
    "    for i in range(0, l - 1):\n",
    "\n",
    "        dm = m_prime(m, v[i])\n",
    "        dh = h_prime(h, v[i])\n",
    "        dn = n_prime(n, v[i])\n",
    "        dv = 1 / Cm * ((-n ** 4 * gk * (v[i] - Ek)) - (m ** 3 * h * gna * (v[i] - Ena)) - gl * (v[i] - El) + I_inj)\n",
    "        v[i + 1] = v[i] + dt * dv\n",
    "        m = m + dt * dm\n",
    "        n = n + dt * dn\n",
    "        h = h + dt * dh\n",
    "    return v\n"
   ]
  },
  {
   "cell_type": "markdown",
   "id": "c200a6ab",
   "metadata": {},
   "source": [
    "## part 10:\n",
    "a) Plot V versus t for injected currents of 5, 10, and 15 A/cm2"
   ]
  },
  {
   "cell_type": "code",
   "execution_count": null,
   "id": "95e708da",
   "metadata": {},
   "outputs": [],
   "source": [
    "t = np.arange(0, 100, 0.01)\n",
    "v = hodgkin_huxley(t, 15)\n",
    "plt.plot(t, v)\n",
    "plt.title('hodgkin_huxley model for 15 mA injected current')\n",
    "v = hodgkin_huxley(t, 10)\n",
    "plt.figure()\n",
    "plt.plot(t, v)\n",
    "plt.title('hodgkin_huxley model for 10 mA injected current')\n",
    "v = hodgkin_huxley(t, 5)\n",
    "plt.figure()\n",
    "plt.plot(t, v)\n",
    "plt.title('hodgkin_huxley model for 5 mA injected current')"
   ]
  }
 ],
 "metadata": {
  "kernelspec": {
   "display_name": "Python [conda env:py1] *",
   "language": "python",
   "name": "conda-env-py1-py"
  },
  "language_info": {
   "codemirror_mode": {
    "name": "ipython",
    "version": 3
   },
   "file_extension": ".py",
   "mimetype": "text/x-python",
   "name": "python",
   "nbconvert_exporter": "python",
   "pygments_lexer": "ipython3",
   "version": "3.7.13"
  }
 },
 "nbformat": 4,
 "nbformat_minor": 5
}
