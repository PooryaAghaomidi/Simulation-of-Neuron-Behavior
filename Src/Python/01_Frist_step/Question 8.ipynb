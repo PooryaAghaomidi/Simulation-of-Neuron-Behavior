{
 "cells": [
  {
   "cell_type": "markdown",
   "id": "8666003d",
   "metadata": {},
   "source": [
    "## part 8:\n",
    " Plot peak current for different voltages and determine peak late current and peak early \n",
    "current"
   ]
  },
  {
   "cell_type": "code",
   "execution_count": null,
   "id": "5837e03e",
   "metadata": {},
   "outputs": [],
   "source": [
    "import numpy as np\n",
    "import math\n",
    "import matplotlib.pyplot as plt"
   ]
  },
  {
   "cell_type": "code",
   "execution_count": null,
   "id": "d810e55f",
   "metadata": {},
   "outputs": [],
   "source": [
    "def ode_euler(init, x, dif, v):\n",
    "    # function is completly similar to the one introduced before except 'dif' function inputs\n",
    "    output = np.zeros(len(x))\n",
    "    output[0] = init\n",
    "    for i in range(0, len(x) - 1):\n",
    "        # In this function 'dif' get output[i] and v insted of x[i]\n",
    "        output[i + 1] = output[i] + (x[i + 1] - x[i]) * dif(output[i], v)\n",
    "    return output"
   ]
  },
  {
   "cell_type": "code",
   "execution_count": null,
   "id": "d7c7e530",
   "metadata": {},
   "outputs": [],
   "source": [
    "def n_prime(n, v):\n",
    "    vrest = -60\n",
    "    v = v - vrest\n",
    "    # in v = 10 we would have a dividing by zero two following lines are written to avoide this\n",
    "    if v == 10:\n",
    "        v = v + 0.001\n",
    "    # transsition rate from close to open state:\n",
    "    alpha = 0.01 * (10 - v) / (math.exp((10 - v) / 10) - 1)\n",
    "\n",
    "    # transsition rate from open to close state:\n",
    "    beta = 0.125 * math.exp(-v / 80)\n",
    "\n",
    "    # calculating dn from the given formula\n",
    "    dn = alpha * (1 - n) - beta * n\n",
    "    return dn"
   ]
  },
  {
   "cell_type": "code",
   "execution_count": null,
   "id": "277a5ab6",
   "metadata": {},
   "outputs": [],
   "source": [
    "def m_prime(m, v):\n",
    "    # Na resting potential\n",
    "    Ena = 53.4\n",
    "    # cell resting potential\n",
    "    vrest = -60\n",
    "    v = v - vrest\n",
    "    # in v = 25 we would have a dividing by zero two following lines are written to avoide this\n",
    "    if v == 25:\n",
    "        v = v + 0.001\n",
    "    initial_m = 1\n",
    "    # transsition rate from close to open state:\n",
    "    alpha = 0.1 * (25 - v) / (math.exp(0.1 * (25 - v)) - 1)\n",
    "\n",
    "    # transsition rate from open to close state:\n",
    "    beta = 4 * math.exp(-v / 18)\n",
    "\n",
    "    dm = alpha * (1 - m) - beta * m\n",
    "    return dm"
   ]
  },
  {
   "cell_type": "code",
   "execution_count": null,
   "id": "fbb767e4",
   "metadata": {},
   "outputs": [],
   "source": [
    "def h_prime(h, v):\n",
    "    # Na resting potential\n",
    "    Ena = 53.4\n",
    "    # cell resting potential\n",
    "    vrest = -60\n",
    "    v = v - vrest\n",
    "    # in v = 30 we would have a dividing by zero two following lines are written to avoide this\n",
    "    if v == 30:\n",
    "        v = v + 0.001\n",
    "    initial_h = 0\n",
    "    # transsition rate from inactive to active state:\n",
    "    alpha = 0.07 * math.exp(-v / 20)\n",
    "\n",
    "    # transsition rate from active to inactive state:\n",
    "    beta = 1 / (math.exp((30 - v) / 10) + 1)\n",
    "    dh = (1 - h) * alpha - h * beta\n",
    "\n",
    "    return dh"
   ]
  },
  {
   "cell_type": "code",
   "execution_count": null,
   "id": "64243421",
   "metadata": {},
   "outputs": [],
   "source": [
    "def K_v(t, v):\n",
    "    initial_n = 0\n",
    "    gk = 36\n",
    "    # calculating n from its derivative by euler function:\n",
    "    n = ode_euler(initial_n, t, n_prime, v)\n",
    "    # clculating potassium current i = v*g (voltage is in mV so it sould be multiplied by 0.001 )\n",
    "    # cosidering the probebilty of channels being open\n",
    "    ik = 0.001 * (v + 72.1) * n ** 4 * gk\n",
    "    return ik"
   ]
  },
  {
   "cell_type": "code",
   "execution_count": null,
   "id": "9ab85e04",
   "metadata": {},
   "outputs": [],
   "source": [
    "def Na_v(t, v):\n",
    "    initial_m = 0\n",
    "    initial_h = 1\n",
    "\n",
    "    Ena = 53\n",
    "    gna = 120\n",
    "\n",
    "    # calculating m and h from its derivative by euler function:\n",
    "    m = ode_euler(initial_m, t, m_prime, v)\n",
    "    h = ode_euler(initial_h, t, h_prime, v)\n",
    "\n",
    "    # clculating sodium current i = v*g (voltage is in mV so it sould be multiplied by 0.001 )\n",
    "    # considering the probebilty of channels being open:\n",
    "    ina = 0.001 * h * (m ** 3) * gna * (v - Ena)\n",
    "    return ina"
   ]
  },
  {
   "cell_type": "code",
   "execution_count": null,
   "id": "8980eae1",
   "metadata": {},
   "outputs": [],
   "source": [
    "t = np.arange(0, 20, 0.1)\n",
    "v = np.arange(-80, 80, 1)\n",
    "l = len(v)\n",
    "v_max = np.zeros(l)\n",
    "for i in range(0, l - 1):\n",
    "    v_max[i] = max(K_v(t, v[i]))\n",
    "plt.figure()\n",
    "plt.plot(v, v_max)\n",
    "for i in range(0, l - 1):\n",
    "    #since Na current sighns change by increasing the voltage we shuold cosider it by changing min to max after v = 53\n",
    "    if v[i] <= 53:\n",
    "        v_max[i] = min(Na_v(t, v[i]))\n",
    "    else:\n",
    "        v_max[i] = max(Na_v(t, v[i]))\n",
    "\n",
    "plt.plot(v, v_max)"
   ]
  }
 ],
 "metadata": {
  "kernelspec": {
   "display_name": "Python [conda env:py1] *",
   "language": "python",
   "name": "conda-env-py1-py"
  },
  "language_info": {
   "codemirror_mode": {
    "name": "ipython",
    "version": 3
   },
   "file_extension": ".py",
   "mimetype": "text/x-python",
   "name": "python",
   "nbconvert_exporter": "python",
   "pygments_lexer": "ipython3",
   "version": "3.7.13"
  }
 },
 "nbformat": 4,
 "nbformat_minor": 5
}
