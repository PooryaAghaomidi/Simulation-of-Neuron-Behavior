{
 "cells": [
  {
   "cell_type": "markdown",
   "id": "2fa8a1b4",
   "metadata": {},
   "source": [
    "## part 12:\n",
    "simulate neuron action poyential by FitzHugh-Nagumo model:\n",
    "\n",
    "a = 0.7\n",
    "\n",
    "b = 0.8\n",
    "\n",
    "tau = 12.5"
   ]
  },
  {
   "cell_type": "code",
   "execution_count": null,
   "id": "5d962558",
   "metadata": {},
   "outputs": [],
   "source": [
    "import numpy as np\n",
    "import math\n",
    "import matplotlib.pyplot as plt"
   ]
  },
  {
   "cell_type": "code",
   "execution_count": null,
   "id": "4905236c",
   "metadata": {},
   "outputs": [],
   "source": [
    "def FHN(t, I):\n",
    "    #defining necessary parameters\n",
    "    a = 0.7\n",
    "    b = 0.8\n",
    "    tau = 12.5\n",
    "\n",
    "    # time step\n",
    "    dt = t[1] - t[0]\n",
    "\n",
    "    #sample no.\n",
    "    l = len(t)\n",
    "    v = np.zeros(l)\n",
    "\n",
    "    # v  and W initial value\n",
    "    v_initial = 0\n",
    "    v[0] = v_initial\n",
    "    w = 0\n",
    "\n",
    "    for i in range(0, l - 1):\n",
    "\n",
    "        dif_v = v[i] - (v[i] ** 3) / 3 - w + I\n",
    "        dif_w = 1 / tau * (v[i] + a - b * w)\n",
    "\n",
    "        v[i + 1] = v[i] + dt * dif_v\n",
    "        w = w + dt * dif_w\n",
    "    return v"
   ]
  },
  {
   "cell_type": "code",
   "execution_count": null,
   "id": "d47833a4",
   "metadata": {},
   "outputs": [],
   "source": [
    "t = np.arange(0, 300, 0.02)\n",
    "vol1 = FHN(t, 0.3)\n",
    "plt.figure()\n",
    "plt.plot(t, vol1)\n",
    "plt.title('FitzHugh Nagumo model for I = 0.3  ')\n",
    "\n",
    "vol1 = FHN(t, 1.2)\n",
    "plt.figure()\n",
    "plt.plot(t, vol1)\n",
    "plt.title('FitzHugh Nagumo model for I = 1.2  ')\n"
   ]
  },
  {
   "cell_type": "code",
   "execution_count": null,
   "id": "d7579c9f",
   "metadata": {},
   "outputs": [],
   "source": []
  }
 ],
 "metadata": {
  "kernelspec": {
   "display_name": "Python [conda env:py1] *",
   "language": "python",
   "name": "conda-env-py1-py"
  },
  "language_info": {
   "codemirror_mode": {
    "name": "ipython",
    "version": 3
   },
   "file_extension": ".py",
   "mimetype": "text/x-python",
   "name": "python",
   "nbconvert_exporter": "python",
   "pygments_lexer": "ipython3",
   "version": "3.7.13"
  }
 },
 "nbformat": 4,
 "nbformat_minor": 5
}
