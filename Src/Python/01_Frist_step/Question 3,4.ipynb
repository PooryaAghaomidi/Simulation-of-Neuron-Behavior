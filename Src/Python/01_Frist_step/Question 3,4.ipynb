{
 "cells": [
  {
   "cell_type": "markdown",
   "id": "f02aedcf",
   "metadata": {},
   "source": [
    "### part3: \n",
    "Write a function called K_v(t, V) that takes a time interval t and a holding potential V \n",
    "and returns the current response of a K+\n",
    "channel over the time range specified by t."
   ]
  },
  {
   "cell_type": "code",
   "execution_count": null,
   "id": "10e53956",
   "metadata": {},
   "outputs": [],
   "source": [
    "import numpy as np\n",
    "import math\n",
    "import matplotlib.pyplot as plt"
   ]
  },
  {
   "cell_type": "code",
   "execution_count": null,
   "id": "c315e525",
   "metadata": {},
   "outputs": [],
   "source": [
    "def ode_euler(init, x, dif, v):\n",
    "\n",
    "    # function is completly similar to the one introduced before except 'dif' function inputs\n",
    "    output = np.zeros(len(x))\n",
    "    output[0] = init\n",
    "    for i in range(0, len(x) - 1):\n",
    "        # In this function 'dif' get output[i] and v instead of x[i]\n",
    "        output[i + 1] = output[i] + (x[i + 1] - x[i]) * dif(output[i], v)\n",
    "    return output"
   ]
  },
  {
   "cell_type": "code",
   "execution_count": null,
   "id": "713903c0",
   "metadata": {},
   "outputs": [],
   "source": [
    "def n_prime(n, v):\n",
    "    vrest = -60\n",
    "    v = v - vrest\n",
    "\n",
    "    # in v = 10 we would have a dividing by zero two following lines are written to avoide this\n",
    "    if v == 10:\n",
    "        v = v + 0.001\n",
    "\n",
    "    # transsition rate from close to open state:\n",
    "    alpha = 0.01 * (10 - v) / (math.exp((10 - v) / 10) - 1)\n",
    "\n",
    "    # transsition rate from open to close state:\n",
    "    beta = 0.125 * math.exp(-v / 80)\n",
    "\n",
    "    # calculating dn from the given formula\n",
    "    dn = alpha * (1 - n) - beta * n\n",
    "    return dn"
   ]
  },
  {
   "cell_type": "code",
   "execution_count": null,
   "id": "157d0782",
   "metadata": {},
   "outputs": [],
   "source": [
    "def K_v(t, v):\n",
    "    initial_n = 0\n",
    "    gk = 36\n",
    "\n",
    "    # calculating n from its derivative by euler function:\n",
    "    n = ode_euler(initial_n, t, n_prime, v)\n",
    "\n",
    "    # clculating potassium current i = v*g (voltage is in mV so it sould be multiplied by 0.001 )\n",
    "    # considering the probebilty of channels being open:\n",
    "    ik = 0.001 * (v + 72.1) * n ** 4 * gk\n",
    "\n",
    "    return ik"
   ]
  },
  {
   "cell_type": "markdown",
   "id": "190e5534",
   "metadata": {},
   "source": [
    "### part4:\n",
    "Use K_v to plot the current response of a K+\n",
    "channel when the membrane potential is \n",
    "clamped to –30 mV. Repeat this for holding potentials from –40 mV to 70 mV in 10 \n",
    "mV increments, and plot the solutions on the same graph."
   ]
  },
  {
   "cell_type": "code",
   "execution_count": null,
   "id": "5667d2ae",
   "metadata": {},
   "outputs": [],
   "source": [
    "t = np.arange(0, 20, 0.001)\n",
    "i_30 = K_v(t, -30)\n",
    "plt.figure()\n",
    "plt.plot(t, i_30, 'b')\n",
    "plt.title('potassium current for v = -30')\n",
    "plt.figure()\n",
    "for v in range(-40, 80, 10):\n",
    "    plt.plot(t, K_v(t, v))\n",
    "plt.title('potassium current')\n",
    "plt.legend(['v = -40', 'v = -30', 'v = -20', 'v = -10', 'v = 0', 'v = 10', 'v = 20', 'v = 30', 'v = 40', 'v = 50',\n",
    "            'v = 60', 'v = 70'])\n"
   ]
  }
 ],
 "metadata": {
  "kernelspec": {
   "display_name": "Python [conda env:py1] *",
   "language": "python",
   "name": "conda-env-py1-py"
  },
  "language_info": {
   "codemirror_mode": {
    "name": "ipython",
    "version": 3
   },
   "file_extension": ".py",
   "mimetype": "text/x-python",
   "name": "python",
   "nbconvert_exporter": "python",
   "pygments_lexer": "ipython3",
   "version": "3.7.13"
  }
 },
 "nbformat": 4,
 "nbformat_minor": 5
}
