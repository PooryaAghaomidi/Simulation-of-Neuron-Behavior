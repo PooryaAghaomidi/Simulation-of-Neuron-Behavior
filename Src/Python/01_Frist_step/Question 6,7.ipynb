{
 "cells": [
  {
   "cell_type": "markdown",
   "id": "22d8a63c",
   "metadata": {},
   "source": [
    "## part 6:\n",
    "Write a function called Na_v(t, V) that takes a time interval t and a holding potential V, \n",
    "and returns the current response of a Na+\n",
    "channel over the time range specified by t. \n",
    "Hint: Na+\n",
    "should call ode_euler twice, once with the inputs @m_prime, t, m_o, and V and \n",
    "another with the inputs @h_prime, t, h_o, and V"
   ]
  },
  {
   "cell_type": "code",
   "execution_count": null,
   "id": "69bbfe45",
   "metadata": {},
   "outputs": [],
   "source": [
    "import numpy as np\n",
    "import math\n",
    "import matplotlib.pyplot as plt"
   ]
  },
  {
   "cell_type": "code",
   "execution_count": null,
   "id": "af9e595b",
   "metadata": {},
   "outputs": [],
   "source": [
    "def ode_euler(init, x, dif, v):\n",
    "    # function is completly similar to the one introduced before except 'dif' function inputs\n",
    "    output = np.zeros(len(x))\n",
    "    output[0] = init\n",
    "    for i in range(0, len(x) - 1):\n",
    "        # In this function 'dif' get output[i] and v insted of x[i]\n",
    "        output[i + 1] = output[i] + (x[i + 1] - x[i]) * dif(output[i], v)\n",
    "    return output"
   ]
  },
  {
   "cell_type": "code",
   "execution_count": null,
   "id": "32f986df",
   "metadata": {},
   "outputs": [],
   "source": [
    "def m_prime(m, v):\n",
    "    # Na resting potential\n",
    "    Ena = 53.4\n",
    "    # cell resting potential\n",
    "    vrest = -60\n",
    "    v = v - vrest\n",
    "\n",
    "    # in v = 25 we would have a dividing by zero, two following lines are written to avoide this\n",
    "    if v == 25:\n",
    "        v = v + 0.001\n",
    "\n",
    "    initial_m = 1\n",
    "    # transsition rate from close to open state:\n",
    "    alpha = 0.1 * (25 - v) / (math.exp(0.1 * (25 - v)) - 1)\n",
    "\n",
    "    # transsition rate from open to close state:\n",
    "    beta = 4 * math.exp(-v / 18)\n",
    "\n",
    "    dm = alpha * (1 - m) - beta * m\n",
    "    return dm"
   ]
  },
  {
   "cell_type": "code",
   "execution_count": null,
   "id": "094abf8d",
   "metadata": {},
   "outputs": [],
   "source": [
    "def h_prime(h, v):\n",
    "    # Na resting potential\n",
    "    Ena = 53.4\n",
    "    # cell resting potential\n",
    "    vrest = -60\n",
    "    v = v - vrest\n",
    "\n",
    "    # in v = 30 we would have a dividing by zero ,two following lines are written to avoide this\n",
    "    if v == 30:\n",
    "        v = v + 0.001\n",
    "\n",
    "    initial_h = 0\n",
    "    # transsition rate from inactive to active state:\n",
    "    alpha = 0.07 * math.exp(-v / 20)\n",
    "\n",
    "    # transsition rate from active to inactive state:\n",
    "    beta = 1 / (math.exp((30 - v) / 10) + 1)\n",
    "    dh = (1 - h) * alpha - h * beta\n",
    "\n",
    "    return dh"
   ]
  },
  {
   "cell_type": "code",
   "execution_count": null,
   "id": "61dc1887",
   "metadata": {},
   "outputs": [],
   "source": [
    "def Na_v(t, v):\n",
    "    initial_m = 0\n",
    "    initial_h = 1\n",
    "\n",
    "    Ena = 53\n",
    "    gna = 120\n",
    "\n",
    "    # calculating m and h from its derivative by euler function:\n",
    "    m = ode_euler(initial_m, t, m_prime, v)\n",
    "    h = ode_euler(initial_h, t, h_prime, v)\n",
    "\n",
    "    # clculating sodium current i = v*g (voltage is in mV so it sould be multiplied by 0.001 )\n",
    "    # considering the probebilty of channels being open:\n",
    "    ina = 0.001 * h * (m ** 3) * gna * (v - Ena)\n",
    "    return ina"
   ]
  },
  {
   "cell_type": "markdown",
   "id": "d17fc1ba",
   "metadata": {},
   "source": [
    "## part 7:\n",
    "Use Na_v to plot the current response of an Na+\n",
    "channel when the membrane potential \n",
    "is clamped to –30 mV. Repeat this for holding potentials from –40 mV to 60 mV in 10 \n",
    "mV increments, and plot the solutions on the same graph."
   ]
  },
  {
   "cell_type": "code",
   "execution_count": null,
   "id": "dc3e53f9",
   "metadata": {},
   "outputs": [],
   "source": [
    "t = np.arange(0, 10, 0.001)\n",
    "i_30 = Na_v(t, -30)\n",
    "plt.figure()\n",
    "plt.plot(t, i_30, 'b')\n",
    "plt.title('sodium current in v = -30')\n",
    "plt.figure()\n",
    "for v in range(-30, 70, 10):\n",
    "    plt.plot(t, Na_v(t, v))\n",
    "plt.title('sodium current')\n",
    "plt.legend(['v = -30', 'v = -20', 'v = -10', 'v = 0', 'v = 10', 'v = 20', 'v = 30', 'v = 40', 'v = 50', 'v = 60'])\n"
   ]
  }
 ],
 "metadata": {
  "kernelspec": {
   "display_name": "Python [conda env:py1] *",
   "language": "python",
   "name": "conda-env-py1-py"
  },
  "language_info": {
   "codemirror_mode": {
    "name": "ipython",
    "version": 3
   },
   "file_extension": ".py",
   "mimetype": "text/x-python",
   "name": "python",
   "nbconvert_exporter": "python",
   "pygments_lexer": "ipython3",
   "version": "3.7.13"
  }
 },
 "nbformat": 4,
 "nbformat_minor": 5
}
