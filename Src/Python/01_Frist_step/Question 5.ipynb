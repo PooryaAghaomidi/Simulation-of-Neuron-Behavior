{
 "cells": [
  {
   "cell_type": "markdown",
   "id": "6a690c52",
   "metadata": {},
   "source": [
    "### part5:\n",
    "Write functions m_prime(t, V) and h_prime(t, V) that calculate the derivative of m and \n",
    "h at the point t given that the membrane potential is V. This will be completely \n",
    "analogous to the code for n_prime."
   ]
  },
  {
   "cell_type": "code",
   "execution_count": 3,
   "id": "22746ca8",
   "metadata": {},
   "outputs": [],
   "source": [
    "import numpy as np\n",
    "import math\n",
    "import matplotlib.pyplot as plt"
   ]
  },
  {
   "cell_type": "code",
   "execution_count": 4,
   "id": "015c57b4",
   "metadata": {},
   "outputs": [],
   "source": [
    "def m_prime(t, v):\n",
    "\n",
    "    vrest = -60\n",
    "    v = v - vrest\n",
    "\n",
    "    # in v = 25 we would have a dividing by zero, two following lines are written to avoide this\n",
    "    if v == 25:\n",
    "        v = v + 0.001\n",
    "\n",
    "    initial_m = 1\n",
    "    # transsition rate from close to open state:\n",
    "    alpha = 0.1 * (25 - v) / (math.exp(0.1 * (25 - v)) - 1)\n",
    "\n",
    "    # transsition rate from open to close state:\n",
    "    beta = 4 * math.exp(-v / 18)\n",
    "    final_m = alpha / (alpha + beta)\n",
    "    ta = 1 / (alpha + beta)\n",
    "\n",
    "    m = final_m - (final_m - initial_m) * math.exp(-t / ta)\n",
    "    dm = alpha * (1 - m) - beta * m\n",
    "    return dm"
   ]
  },
  {
   "cell_type": "code",
   "execution_count": null,
   "id": "44ca68f2",
   "metadata": {},
   "outputs": [],
   "source": [
    "def h_prime(t, v):\n",
    "\n",
    "    vrest = -60\n",
    "    v = v - vrest\n",
    "\n",
    "    # in v = 30 we would have a dividing by zero ,two following lines are written to avoide this\n",
    "    if v == 30:\n",
    "        v = v + 0.001\n",
    "\n",
    "    initial_h = 0\n",
    "    # transsition rate from inactive to active state:\n",
    "    alpha = 0.07 * math.exp(-v / 20)\n",
    "\n",
    "    # transsition rate from active to inactive state:\n",
    "    beta = 1 / (math.exp((30 - v) / 10) + 1)\n",
    "    final_h = alpha / (alpha + beta)\n",
    "    ta = 1 / (alpha + beta)\n",
    "\n",
    "    h = final_h - (final_h - initial_m) * math.exp(-t / ta)\n",
    "    dh = alpha * (1 - h) - beta * h\n",
    "\n",
    "    return dh"
   ]
  }
 ],
 "metadata": {
  "kernelspec": {
   "display_name": "Python [conda env:py1] *",
   "language": "python",
   "name": "conda-env-py1-py"
  },
  "language_info": {
   "codemirror_mode": {
    "name": "ipython",
    "version": 3
   },
   "file_extension": ".py",
   "mimetype": "text/x-python",
   "name": "python",
   "nbconvert_exporter": "python",
   "pygments_lexer": "ipython3",
   "version": "3.7.13"
  }
 },
 "nbformat": 4,
 "nbformat_minor": 5
}
